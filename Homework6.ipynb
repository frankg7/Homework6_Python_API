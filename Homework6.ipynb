{
 "cells": [
  {
   "cell_type": "code",
   "execution_count": 27,
   "metadata": {},
   "outputs": [],
   "source": [
    "# Dependencies and Setup\n",
    "import csv\n",
    "import matplotlib.pyplot as plt\n",
    "import pandas as pd\n",
    "import numpy as np\n",
    "import requests\n",
    "import time\n",
    "\n",
    "# Import API key\n",
    "import api_keys\n",
    "\n",
    "api_key = \"8b937dc1f1b872481f8e25196fd0d945\"\n",
    "\n",
    "# Incorporated citipy to determine city based on latitude and longitude\n",
    "from citipy import citipy\n",
    "\n",
    "# Output File (CSV)\n",
    "output_data_file = \"output_data/cities.csv\"\n",
    "\n",
    "# Range of latitudes and longitudes\n",
    "lat_range = (-90, 90)\n",
    "lng_range = (-180, 180)"
   ]
  },
  {
   "cell_type": "code",
   "execution_count": 48,
   "metadata": {},
   "outputs": [
    {
     "data": {
      "text/plain": [
       "608"
      ]
     },
     "execution_count": 48,
     "metadata": {},
     "output_type": "execute_result"
    }
   ],
   "source": [
    "# List for holding lat_lngs and cities\n",
    "lat_lngs = []\n",
    "cities = []\n",
    "temp = []\n",
    "\n",
    "# Create a set of random lat and lng combinations\n",
    "lats = np.random.uniform(low=-90.000, high=90.000, size=1500)\n",
    "lngs = np.random.uniform(low=-180.000, high=180.000, size=1500)\n",
    "lat_lngs = zip(lats, lngs)\n",
    "\n",
    "# Identify nearest city for each lat, lng combination\n",
    "for lat_lng in lat_lngs:\n",
    "    city = citipy.nearest_city(lat_lng[0], lat_lng[1]).city_name\n",
    "    \n",
    "    # If the city is unique, then add it to a our cities list\n",
    "    if city not in cities:\n",
    "        cities.append(city)\n",
    "\n",
    "# Print the city count to confirm sufficient count\n",
    "len(cities)"
   ]
  },
  {
   "cell_type": "code",
   "execution_count": 29,
   "metadata": {},
   "outputs": [],
   "source": [
    "# Save config information.\n",
    "url = \"http://api.openweathermap.org/data/2.5/weather?\"\n",
    "units = \"metric\"\n",
    "\n",
    "# Build partial query URL\n",
    "query_url = f\"{url}appid={api_key}&units={units}&q=\""
   ]
  },
  {
   "cell_type": "code",
   "execution_count": 37,
   "metadata": {},
   "outputs": [],
   "source": [
    "for city in cities:\n",
    "    response = requests.get(query_url + city).json()"
   ]
  },
  {
   "cell_type": "code",
   "execution_count": 40,
   "metadata": {},
   "outputs": [
    {
     "name": "stdout",
     "output_type": "stream",
     "text": [
      "The latitude information received is: [48.86, 51.51, 59.91, 39.91]\n",
      "The temperature information received is: [2.12, 2.08, -4.47, -10]\n"
     ]
    }
   ],
   "source": [
    "EXPcities = [\"Paris\", \"London\", \"Oslo\", \"Beijing\"]\n",
    "\n",
    "# set up lists to hold reponse info\n",
    "lat = []\n",
    "temp = []\n",
    "\n",
    "# Loop through the list of cities and perform a request for data on each\n",
    "for city in EXPcities:\n",
    "    response = requests.get(query_url + city).json()\n",
    "    lat.append(response['coord']['lat'])\n",
    "    temp.append(response['main']['temp'])\n",
    "\n",
    "print(f\"The latitude information received is: {lat}\")\n",
    "print(f\"The temperature information received is: {temp}\")"
   ]
  },
  {
   "cell_type": "code",
   "execution_count": 43,
   "metadata": {},
   "outputs": [
    {
     "name": "stdout",
     "output_type": "stream",
     "text": [
      "['Paris', 'London', 'Oslo', 'Beijing']\n"
     ]
    }
   ],
   "source": [
    "print(EXPcities)"
   ]
  },
  {
   "cell_type": "code",
   "execution_count": 44,
   "metadata": {},
   "outputs": [
    {
     "name": "stdout",
     "output_type": "stream",
     "text": [
      "['vila velha', 'lekoni', 'twin falls', 'cahors', 'karratha', 'morant bay', 'ushuaia', 'alzamay', 'albany', 'new norfolk', 'hilo', 'jamestown', 'belushya guba', 'atuona', 'upernavik', 'faanui', 'bredasdorp', 'srednekolymsk', 'taolanaro', 'dutlwe', 'lebu', 'simpang', 'busselton', 'victoria', 'matay', 'bacolod', 'adrar', 'rikitea', 'miyang', 'gat', 'clyde river', 'sentyabrskiy', 'cozumel', 'xianyang', 'miles city', 'punta arenas', 'makakilo city', 'umzimvubu', 'krasnyy chikoy', 'wahran', 'port alfred', 'mnogovershinnyy', 'cayenne', 'kieta', 'mahebourg', 'vardo', 'byron bay', 'illoqqortoormiut', 'aras', 'ugoofaaru', 'beringovskiy', 'cherskiy', 'deputatskiy', 'bagdarin', 'antofagasta', 'castro', 'mirnyy', 'kahului', 'te anau', 'hobyo', 'vaini', 'sitka', 'kruisfontein', 'hobart', 'aklavik', 'hambantota', 'qaanaaq', 'santiago del estero', 'kyra', 'karamken', 'maunabo', 'caravelas', 'pozo colorado', 'barrow', 'finnsnes', 'visby', 'kargasok', 'airai', 'luanda', 'bengkulu', 'parubcan', 'kavieng', 'alofi', 'jalu', 'provideniya', 'salamiyah', 'anamur', 'tasiilaq', 'east london', 'avarua', 'araouane', 'kermanshah', 'raudeberg', 'mataura', 'hithadhoo', 'knysna', 'chute-aux-outardes', 'nizhneyansk', 'tyret pervaya', 'brae', 'dikson', 'mys shmidta', 'temaraia', 'lasa', 'boguchany', 'kopyevo', 'kodiak', 'victor harbor', 'samarai', 'mehamn', 'puerto ayora', 'pevek', 'kurilsk', 'narsaq', 'thompson', 'laguna', 'saskylakh', 'meulaboh', 'elko', 'pascagoula', 'rodniki', 'attawapiskat', 'natal', 'college', 'ribeira grande', 'barentsburg', 'manokwari', 'muli', 'marcona', 'coahuayana', 'poum', 'katsuura', 'fort nelson', 'grand river south east', 'bluff', 'tocantinopolis', 'hami', 'khatanga', 'milagres', 'bilsi', 'vaitupu', 'cherepovets', 'barabai', 'chuy', 'kirakira', 'general cepeda', 'georgetown', 'aleksandrov gay', 'asahikawa', 'yulara', 'sorland', 'constitucion', 'bata', 'torbay', 'key biscayne', 'huilong', 'paratinga', 'rudbar', 'jijiga', 'sinnamary', 'sedelnikovo', 'nagapattinam', 'ihosy', 'salym', 'solnechnyy', 'fortuna', 'koungou', 'olafsvik', 'san rafael', 'batticaloa', 'kulhudhuffushi', 'jumla', 'lethem', 'beloha', 'aguilas', 'port macquarie', 'inderborskiy', 'nabire', 'lima', 'pisco', 'muros', 'riberalta', 'pingliang', 'guerrero negro', 'sao joao da barra', 'esperance', 'puro', 'mount isa', 'wamba', 'ust-maya', 'ternate', 'tilichiki', 'virginia beach', 'naze', 'ola', 'vieques', 'butaritari', 'ariquemes', 'isangel', 'cap malheureux', 'ascension', 'kasongo-lunda', 'lazaro cardenas', 'utiroa', 'avera', 'yumen', 'huarmey', 'comodoro rivadavia', 'tual', 'faya', 'kapaa', 'ngorongoro', 'longyearbyen', 'tiksi', 'kaitangata', 'shimoda', 'severo-kurilsk', 'rio gallegos', 'mulege', 'luderitz', 'kushmurun', 'dali', 'graham', 'lukovetskiy', 'gorin', 'lavrentiya', 'cidreira', 'los llanos de aridane', 'severobaykalsk', 'iquitos', 'cape town', 'benguela', 'ponta do sol', 'jumilla', 'praia da vitoria', 'dombarovskiy', 'umm lajj', 'hermanus', 'paamiut', 'dingle', 'shchelyayur', 'bethel', 'namibe', 'bilma', 'ishigaki', 'shelburne', 'shimanovsk', 'waynesboro', 'uchiza', 'requena', 'tyn nad vltavou', 'bayburt', 'ambodifototra', 'tuktoyaktuk', 'shima', 'malindi', 'norman wells', 'vaitape', 'pasni', 'tiznit', 'aswan', 'borujan', 'shubarshi', 'bambous virieux', 'myitkyina', 'tuatapere', 'ahipara', 'nanguneri', 'yellowknife', 'fare', 'holme', 'copacabana', 'bubaque', 'carnarvon', 'palabuhanratu', 'adre', 'anloga', 'qinhuangdao', 'majene', 'husavik', 'khani', 'yaan', 'seoul', 'alfonsine', 'ancud', 'lorengau', 'zharkent', 'chagda', 'arraial do cabo', 'camacha', 'port hardy', 'lajeado', 'richards bay', 'liverpool', 'codrington', 'qui nhon', 'mocuba', 'san policarpo', 'verkhnyaya toyma', 'saleaula', 'lamu', 'kalengwa', 'cedar city', 'saint george', 'moron', 'amderma', 'kattivakkam', 'ayan', 'saint-philippe', 'kotagiri', 'mar del plata', 'hofn', 'port hedland', 'sao filipe', 'saurimo', 'puerto ayacucho', 'saint-georges', 'kuytun', 'saint-augustin', 'roma', 'nanortalik', 'palaikastron', 'dudinka', 'babanusah', 'petropavlovsk-kamchatskiy', 'manjacaze', 'garowe', 'saint-pierre', 'orchard homes', 'cuamba', 'coihaique', 'port shepstone', 'moerai', 'addis zemen', 'koumac', 'mayumba', 'juba', 'the valley', 'nikolskoye', 'santa rosa', 'samusu', 'paragominas', 'saryshagan', 'vostok', 'sabancuy', 'obo', 'kabansk', 'talakan', 'kawana waters', 'castanos', 'rzhyshchiv', 'hovd', 'tahta', 'hamilton', 'sasso marconi', 'lolua', 'plettenberg bay', 'gilgil', 'pangnirtung', 'udachnyy', 'vanimo', 'ruatoria', 'sokolo', 'buguruslan', 'waingapu', 'mahibadhoo', 'kailua', 'gushikawa', 'chokurdakh', 'kodinar', 'lundazi', 'asfi', 'whittlesea', 'uarini', 'alekseyevsk', 'tezu', 'tsihombe', 'wageningen', 'grivenskaya', 'vestmannaeyjar', 'naugarzan', 'dubbo', 'binabalian', 'luwuk', 'arlit', 'hays', 'kyshtovka', 'khonuu', 'khabary', 'tieli', 'cabo san lucas', 'moroni', 'kavaratti', 'nishihara', 'bathsheba', 'korla', 'goure', 'ostrovnoy', 'huayucachi', 'garbolovo', 'karad', 'chapais', 'narok', 'lompoc', 'pundaguitan', 'ryotsu', 'ploemeur', 'thaton', 'hasaki', 'akdepe', 'safaga', 'noumea', 'puerto colombia', 'sola', 'ullal', 'port elizabeth', 'naryan-mar', 'la baule-escoublac', 'thayetmyo', 'nguiu', 'orje', 'baykit', 'san julian', 'ratnagiri', 'flinders', 'souillac', 'port blair', 'mongo', 'olga', 'beyneu', 'geraldton', 'puerto del rosario', 'ilulissat', 'bin qirdan', 'hay river', 'soe', 'jiangyou', 'touros', 'blagesti', 'nouadhibou', 'aitape', 'akure', 'doha', 'shellbrook', 'tabiauea', 'crossville', 'pouso alegre', 'anadyr', 'ta khmau', 'borovoy', 'nome', 'ballina', 'san quintin', 'manaus', 'iqaluit', 'buncrana', 'skelleftea', 'azul', 'saint-francois', 'arman', 'mount gambier', 'baruun-urt', 'sterlitamak', 'mosquera', 'ixtapa', 'kloulklubed', 'kudahuvadhoo', 'pouembout', 'dongsheng', 'taoudenni', 'aranos', 'el badari', 'zhuhai', 'bonavista', 'kudat', 'leh', 'peniche', 'edremit', 'flin flon', 'bur gabo', 'candawaga', 'ahuimanu', 'lashio', 'wasilla', 'xining', 'florianopolis', 'kargat', 'hervey bay', 'bolshaya atnya', 'havre-saint-pierre', 'sioux falls', 'lata', 'guasdualito', 'jiayuguan', 'invermere', 'la union', 'fukue', 'biak', 'epinal', 'porto novo', 'qandahar', 'kostino', 'grindavik', 'esso', 'warqla', 'thinadhoo', 'bismarck', 'aguada de pasajeros', 'opuwo', 'sakakah', 'linxia', 'leningradskiy', 'bulalacao', 'vila franca do campo', 'rawson', 'lamar', 'hualmay', 'miranda de ebro', 'slave lake', 'warmbad', 'hernani', 'bolitoc', 'nha trang', 'bondo', 'takoradi', 'padang', 'labuhan', 'eskasem', 'scottsbluff', 'xapuri', 'petatlan', 'rumford', 'klaksvik', 'reims', 'markova', 'nemuro', 'paraiso', 'high rock', 'sur', 'saldanha', 'mendi', 'bandarbeyla', 'lucea', 'san cristobal', 'foca', 'ngukurr', 'haines junction', 'pombas', 'kamenskoye', 'mogadishu', 'rungata', 'rio grande city', 'bakuriani', 'limpapa', 'kungurtug', 'amahai', 'jieshi', 'quatre cocos', 'macaboboni', 'vangaindrano', 'quelimane', 'paita', 'labutta', 'chipinge', 'lipari', 'eston', 'san patricio', 'nelson bay', 'morro bay', 'salalah', 'bantou', 'boshnyakovo', 'tumannyy', 'quiindy', 'watertown', 'copiapo', 'qaqortoq', 'sistranda', 'dakar', 'suleja', 'karabulak', 'labelle', 'curillo', 'zhezkazgan', 'maloshuyka', 'aleksandrovsk-sakhalinskiy', 'yilan', 'homer', 'coquimbo', 'shingu', 'myanaung', 'prince rupert', 'kollam', 'okhotsk', 'tignere', 'matina', 'sept-iles', 'tura', 'taltal', 'hattiesburg', 'kinablangan', 'sobolevo', 'alghero', 'soyo', 'dong xoai', 'mayskiy', 'talnakh', 'gazojak', 'atasu', 'angamali', 'egvekinot', 'kaa-khem', 'cabra', 'lichinga', 'jian', 'puerto narino', 'belawan', 'yozgat', 'kochi', 'santa maria', 'mangla', 'berlevag', 'ketchikan', 'poshekhonye']\n"
     ]
    }
   ],
   "source": [
    "print(cities)"
   ]
  },
  {
   "cell_type": "code",
   "execution_count": null,
   "metadata": {},
   "outputs": [],
   "source": []
  }
 ],
 "metadata": {
  "kernelspec": {
   "display_name": "Python 3",
   "language": "python",
   "name": "python3"
  },
  "language_info": {
   "codemirror_mode": {
    "name": "ipython",
    "version": 3
   },
   "file_extension": ".py",
   "mimetype": "text/x-python",
   "name": "python",
   "nbconvert_exporter": "python",
   "pygments_lexer": "ipython3",
   "version": "3.6.6"
  }
 },
 "nbformat": 4,
 "nbformat_minor": 2
}
